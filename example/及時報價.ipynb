{
 "cells": [
  {
   "cell_type": "code",
   "execution_count": null,
   "id": "shaped-integral",
   "metadata": {},
   "outputs": [],
   "source": [
    "import FinMind"
   ]
  },
  {
   "cell_type": "code",
   "execution_count": null,
   "id": "thorough-tours",
   "metadata": {},
   "outputs": [],
   "source": [
    "from FinMind.data import DataSubscriber\n",
    "from FinMind.data import Stock\n",
    "from FinMind.data import FutureAndOption"
   ]
  },
  {
   "cell_type": "code",
   "execution_count": null,
   "id": "double-jersey",
   "metadata": {},
   "outputs": [],
   "source": [
    "ds = DataSubscriber()"
   ]
  },
  {
   "cell_type": "code",
   "execution_count": null,
   "id": "egyptian-effects",
   "metadata": {},
   "outputs": [],
   "source": [
    "# 訂閱股票Tick資料\n",
    "ds.subscribe(\"2330\",Stock.Tick)"
   ]
  },
  {
   "cell_type": "code",
   "execution_count": null,
   "id": "blank-ready",
   "metadata": {},
   "outputs": [],
   "source": [
    "# 訂閱股票五檔報價資料\n",
    "ds.subscribe(\"2330\",Stock.BidAsk)"
   ]
  },
  {
   "cell_type": "code",
   "execution_count": null,
   "id": "particular-render",
   "metadata": {},
   "outputs": [],
   "source": [
    "# 訂閱期權報價\n",
    "ds.subscribe(\"TXFF1\",FutureAndOption.Tick,cb)"
   ]
  },
  {
   "cell_type": "code",
   "execution_count": null,
   "id": "cheap-connecticut",
   "metadata": {},
   "outputs": [],
   "source": [
    "# 自定回調函數\n",
    "def cb(message):\n",
    "    stock_id = message.get(\"stock_id\",\"\")\n",
    "    deal_price =  message.get(\"deal_price\",\"\")\n",
    "    volume =  message.get(\"volume\",\"\")\n",
    "    time = message.get(\"Time\",\"\")\n",
    "    tick_type = message.get(\"TickType\",\"\")\n",
    "ds.subscribe(\"2330\",Stock.Tick,cb)"
   ]
  },
  {
   "cell_type": "code",
   "execution_count": null,
   "id": "separate-tours",
   "metadata": {},
   "outputs": [],
   "source": [
    "# 取消訂閱\n",
    "ds.unsubscribe(\"2330\",Stock.Tick)"
   ]
  },
  {
   "cell_type": "code",
   "execution_count": null,
   "id": "inappropriate-participant",
   "metadata": {},
   "outputs": [],
   "source": []
  },
  {
   "cell_type": "code",
   "execution_count": null,
   "id": "czech-chosen",
   "metadata": {},
   "outputs": [],
   "source": []
  },
  {
   "cell_type": "code",
   "execution_count": null,
   "id": "turned-gilbert",
   "metadata": {},
   "outputs": [],
   "source": []
  },
  {
   "cell_type": "code",
   "execution_count": null,
   "id": "compressed-album",
   "metadata": {},
   "outputs": [],
   "source": []
  }
 ],
 "metadata": {
  "kernelspec": {
   "display_name": "Python (general)",
   "language": "python",
   "name": "general"
  },
  "language_info": {
   "codemirror_mode": {
    "name": "ipython",
    "version": 3
   },
   "file_extension": ".py",
   "mimetype": "text/x-python",
   "name": "python",
   "nbconvert_exporter": "python",
   "pygments_lexer": "ipython3",
   "version": "3.8.7"
  }
 },
 "nbformat": 4,
 "nbformat_minor": 5
}